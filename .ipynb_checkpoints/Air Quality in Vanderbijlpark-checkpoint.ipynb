{
 "cells": [
  {
   "cell_type": "markdown",
   "id": "ca6d91fe-b32d-417e-adce-547453256e57",
   "metadata": {},
   "source": [
    "## AFRICA Air Quality Archive Vanderbijlpark "
   ]
  },
  {
   "cell_type": "code",
   "execution_count": 4,
   "id": "25dda19d-d2ca-4405-b872-ece37d2dd031",
   "metadata": {},
   "outputs": [],
   "source": [
    "import pandas as pd\n",
    "from glob import glob\n",
    "import matplotlib.pyplot as plt\n",
    "import seaborn as sns"
   ]
  },
  {
   "cell_type": "code",
   "execution_count": 11,
   "id": "781b0f6b-8278-4496-841c-f398478f0f31",
   "metadata": {},
   "outputs": [],
   "source": [
    "\n",
    "def wrangle(filename):\n",
    "    #We read the filename into a dataframe and passing the ';' as a delimiter\n",
    "    df = pd.read_csv(filename,delimiter=';')\n",
    "    # We convert our timestamp column of object datatype to a timestamp datatype\n",
    "    df['timestamp'] = pd.to_datetime(df['timestamp'])\n",
    "    # We set the index of the dataframe to be the timestamp \n",
    "    df.set_index('timestamp',inplace=True)\n",
    "    #We  convert the timestamp to the 'Africa/Johannesburg' timezone since the dataset is gotten from Vanderbijlpark\n",
    "    df.index = df.index.tz_convert('Africa/Johannesburg')\n",
    "    #We mask our DataFrame to return value that contains the P2 value type\n",
    "    mask = df['value_type'] == 'P2'\n",
    "    df  = df[mask]\n",
    "    ## we identify column with low and high cardinality and drop them\n",
    "    low_cardinality_list = [column for column in df.columns if df[column].nunique() < 2 ]\n",
    "    df.drop(low_cardinality_list,axis=1,inplace = True)\n",
    "    # We resample the dataframe to return a series with the mean of the P2 value for every Hour\n",
    "    y =  df['value'].resample('1H').mean()\n",
    "    return y\n",
    "    "
   ]
  },
  {
   "cell_type": "code",
   "execution_count": 12,
   "id": "5b0d7073-d43e-465d-8142-947df84ea057",
   "metadata": {},
   "outputs": [],
   "source": [
    "#Returns all files that matches the pattern as specified in the glob function argument\n",
    "files = glob('data/*_2021_sensor_data_archive.csv')"
   ]
  },
  {
   "cell_type": "code",
   "execution_count": 13,
   "id": "4de28afe-f78a-4818-8701-cffa4ea078ac",
   "metadata": {},
   "outputs": [],
   "source": [
    "#A list comprehension for that perform the wrangle function for each file in the list created by glob funtion\n",
    "list_of_df = [wrangle(file) for file in files]\n",
    "# We concatenate the list of dataframes into one dataframe using the pd.concat method and set index to the timestamp\n",
    "df = pd.concat(list_of_df)"
   ]
  },
  {
   "cell_type": "code",
   "execution_count": 15,
   "id": "67024ea7-ef5a-4305-8a8a-de6ffffaddbc",
   "metadata": {},
   "outputs": [
    {
     "data": {
      "text/plain": [
       "timestamp\n",
       "2021-07-01 02:00:00+02:00    45.566296\n",
       "2021-07-01 03:00:00+02:00    44.161481\n",
       "2021-07-01 04:00:00+02:00    38.362778\n",
       "2021-07-01 05:00:00+02:00    41.146667\n",
       "2021-07-01 06:00:00+02:00    44.614717\n",
       "Name: value, dtype: float64"
      ]
     },
     "execution_count": 15,
     "metadata": {},
     "output_type": "execute_result"
    }
   ],
   "source": [
    "df.head()"
   ]
  },
  {
   "cell_type": "code",
   "execution_count": 17,
   "id": "579eb53a-08fc-43e7-9986-9acda7760c5c",
   "metadata": {},
   "outputs": [
    {
     "name": "stdout",
     "output_type": "stream",
     "text": [
      "<class 'pandas.core.series.Series'>\n",
      "DatetimeIndex: 2989 entries, 2021-07-01 02:00:00+02:00 to 2021-09-01 01:00:00+02:00\n",
      "Series name: value\n",
      "Non-Null Count  Dtype  \n",
      "--------------  -----  \n",
      "2545 non-null   float64\n",
      "dtypes: float64(1)\n",
      "memory usage: 46.7 KB\n"
     ]
    }
   ],
   "source": [
    "df.info()"
   ]
  },
  {
   "cell_type": "code",
   "execution_count": null,
   "id": "b55a49cb-d444-4b19-b15d-c474dd35aef0",
   "metadata": {},
   "outputs": [],
   "source": []
  }
 ],
 "metadata": {
  "kernelspec": {
   "display_name": "Python 3 (ipykernel)",
   "language": "python",
   "name": "python3"
  },
  "language_info": {
   "codemirror_mode": {
    "name": "ipython",
    "version": 3
   },
   "file_extension": ".py",
   "mimetype": "text/x-python",
   "name": "python",
   "nbconvert_exporter": "python",
   "pygments_lexer": "ipython3",
   "version": "3.9.12"
  }
 },
 "nbformat": 4,
 "nbformat_minor": 5
}
