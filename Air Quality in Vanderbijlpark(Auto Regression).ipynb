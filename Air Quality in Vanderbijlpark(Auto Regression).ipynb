{
 "cells": [
  {
   "cell_type": "markdown",
   "id": "ce8246bd-a2e3-4141-b22d-98764ace20e1",
   "metadata": {},
   "source": [
    "## Air Quality in Vanderbijlpark Prediction (AUTO REGRESSION)"
   ]
  },
  {
   "cell_type": "code",
   "execution_count": 1,
   "id": "c7ebed90-ae7a-4147-957d-6359b37eab71",
   "metadata": {},
   "outputs": [],
   "source": [
    "import pandas as pd\n",
    "from glob import glob\n",
    "import matplotlib.pyplot as plt\n",
    "import seaborn as sns\n",
    "import plotly.express as px\n",
    "from sklearn.metrics import mean_absolute_error\n",
    "from statsmodels.graphics.tsaplots import plot_acf,plot_pacf\n",
    "from statsmodels.tsa.ar_model import AutoReg"
   ]
  },
  {
   "cell_type": "code",
   "execution_count": 2,
   "id": "1cc91b22-05cf-4221-8d35-c1a22d534fd4",
   "metadata": {},
   "outputs": [],
   "source": [
    "\n",
    "def wrangle(filename):\n",
    "    #We read the filename into a dataframe and passing the ';' as a delimiter\n",
    "    df = pd.read_csv(filename,delimiter=';')\n",
    "    # We convert our timestamp column of object datatype to a timestamp datatype\n",
    "    df['timestamp'] = pd.to_datetime(df['timestamp'])\n",
    "    # We set the index of the dataframe to be the timestamp \n",
    "    df.set_index('timestamp',inplace=True)\n",
    "    #We  convert the timestamp to the 'Africa/Johannesburg' timezone since the dataset is gotten from Vanderbijlpark\n",
    "    df.index = df.index.tz_convert('Africa/Johannesburg')\n",
    "    #Sort Our data Frame by index\n",
    "    df = df.sort_index()\n",
    "    #We mask our DataFrame to return value that contains the P2 value type\n",
    "    mask = df['value_type'] == 'P2'\n",
    "    df  = df[mask]\n",
    "    ## we identify column with low and high cardinality and drop them\n",
    "    low_cardinality_list = [column for column in df.columns if df[column].nunique() < 2 ]\n",
    "    df.drop(low_cardinality_list,axis=1,inplace = True)\n",
    "    # We resample the dataframe to return a series with the mean of the P2 value for every Hour\n",
    "    y =  df['value'].resample('1H').mean().fillna(method ='ffill')\n",
    "    y.name = 'P2'\n",
    "    return y\n",
    "    "
   ]
  },
  {
   "cell_type": "code",
   "execution_count": null,
   "id": "725886b6-c54f-4d49-8e4d-39c7935c420f",
   "metadata": {},
   "outputs": [],
   "source": []
  }
 ],
 "metadata": {
  "kernelspec": {
   "display_name": "Python 3 (ipykernel)",
   "language": "python",
   "name": "python3"
  },
  "language_info": {
   "codemirror_mode": {
    "name": "ipython",
    "version": 3
   },
   "file_extension": ".py",
   "mimetype": "text/x-python",
   "name": "python",
   "nbconvert_exporter": "python",
   "pygments_lexer": "ipython3",
   "version": "3.9.12"
  }
 },
 "nbformat": 4,
 "nbformat_minor": 5
}
