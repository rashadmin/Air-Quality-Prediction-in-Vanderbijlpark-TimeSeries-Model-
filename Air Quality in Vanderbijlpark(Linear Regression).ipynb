{
 "cells": [
  {
   "cell_type": "markdown",
   "id": "ca6d91fe-b32d-417e-adce-547453256e57",
   "metadata": {
    "tags": []
   },
   "source": [
    "## Air Quality in Vanderbijlpark Prediction (LINEAR REGRESSION)"
   ]
  },
  {
   "cell_type": "code",
   "execution_count": null,
   "id": "25dda19d-d2ca-4405-b872-ece37d2dd031",
   "metadata": {},
   "outputs": [],
   "source": [
    "import pandas as pd\n",
    "from glob import glob\n",
    "import matplotlib.pyplot as plt\n",
    "import seaborn as sns\n",
    "import plotly.express as px\n",
    "from sklearn.metrics import mean_absolute_error\n",
    "from sklearn.linear_model import LinearRegression"
   ]
  },
  {
   "cell_type": "code",
   "execution_count": null,
   "id": "781b0f6b-8278-4496-841c-f398478f0f31",
   "metadata": {},
   "outputs": [],
   "source": [
    "\n",
    "def wrangle(filename):\n",
    "    #We read the filename into a dataframe and passing the ';' as a delimiter\n",
    "    df = pd.read_csv(filename,delimiter=';')\n",
    "    # We convert our timestamp column of object datatype to a timestamp datatype\n",
    "    df['timestamp'] = pd.to_datetime(df['timestamp'])\n",
    "    # We set the index of the dataframe to be the timestamp \n",
    "    df.set_index('timestamp',inplace=True)\n",
    "    #We  convert the timestamp to the 'Africa/Johannesburg' timezone since the dataset is gotten from Vanderbijlpark\n",
    "    df.index = df.index.tz_convert('Africa/Johannesburg')\n",
    "    #Sort Our data Frame by index\n",
    "    df = df.sort_index()\n",
    "    #We mask our DataFrame to return value that contains the P2 value type\n",
    "    mask = df['value_type'] == 'P2'\n",
    "    df  = df[mask]\n",
    "    ## we identify column with low and high cardinality and drop them\n",
    "    low_cardinality_list = [column for column in df.columns if df[column].nunique() < 2 ]\n",
    "    df.drop(low_cardinality_list,axis=1,inplace = True)\n",
    "    # We resample the dataframe to return a series with the mean of the P2 value for every Hour\n",
    "    y =  df['value'].resample('1H').mean().fillna(method ='ffill')\n",
    "    y.name = 'P2'\n",
    "    return y\n",
    "    "
   ]
  },
  {
   "cell_type": "markdown",
   "id": "2abb6286-45a0-4ceb-b2c5-fe61e7cd551f",
   "metadata": {},
   "source": [
    "### 1. IMPORT"
   ]
  },
  {
   "cell_type": "code",
   "execution_count": null,
   "id": "5b0d7073-d43e-465d-8142-947df84ea057",
   "metadata": {},
   "outputs": [],
   "source": [
    "#Returns all files that matches the pattern as specified in the glob function argument\n",
    "files = glob('data/*_2021_sensor_data_archive.csv')"
   ]
  },
  {
   "cell_type": "code",
   "execution_count": null,
   "id": "4de28afe-f78a-4818-8701-cffa4ea078ac",
   "metadata": {},
   "outputs": [],
   "source": [
    "#A list comprehension for that perform the wrangle function for each file in the list created by glob funtion\n",
    "list_of_df = [wrangle(file) for file in files]\n",
    "# We concatenate the list of dataframes into one dataframe using the pd.concat method and set index to the timestamp\n",
    "y = pd.concat(list_of_df).sort_index()"
   ]
  },
  {
   "cell_type": "markdown",
   "id": "99c9a626-e392-4751-934d-8a70993636ba",
   "metadata": {},
   "source": [
    "### 2. EXPLORE"
   ]
  },
  {
   "cell_type": "code",
   "execution_count": null,
   "id": "b55a49cb-d444-4b19-b15d-c474dd35aef0",
   "metadata": {},
   "outputs": [],
   "source": [
    "#We plot the weekly rolling average to get an idea of how the data could change in future\n",
    "fig,ax = plt.subplots(figsize=(25,7))\n",
    "y.rolling(168).mean().plot(ax=ax);\n",
    "plt.xlabel('Date')\n",
    "plt.ylabel('PM2.5')\n",
    "plt.title('Rolling Average of PM2.5 With Time');\n"
   ]
  },
  {
   "cell_type": "code",
   "execution_count": null,
   "id": "efb3d1e1-d5d6-44e4-84b3-0238fbd438d5",
   "metadata": {},
   "outputs": [],
   "source": [
    "#Since we have no feature and only a target value, we could create a lag feature from the target.\n",
    "#First we convert our series to a DataFrame\n",
    "df = y.to_frame()\n",
    "df.head()"
   ]
  },
  {
   "cell_type": "code",
   "execution_count": null,
   "id": "fd6dfa21-cbf2-491c-8268-330435bc869f",
   "metadata": {},
   "outputs": [],
   "source": [
    "# Next we create a new feature called 'P2.Lag1' which is the value from previous row\n",
    "df['P2.Lag1'] = df['P2'].shift(1)\n",
    "df.dropna(inplace=True)"
   ]
  },
  {
   "cell_type": "code",
   "execution_count": null,
   "id": "6da9a3af-f083-45a2-a42c-6788dab901c0",
   "metadata": {},
   "outputs": [],
   "source": [
    "df.info()"
   ]
  },
  {
   "cell_type": "code",
   "execution_count": null,
   "id": "942452de-ce3a-4314-af80-65238631db7a",
   "metadata": {},
   "outputs": [],
   "source": [
    "#Next we create a heatmap between the feature and target\n",
    "fig,ax = plt.subplots(figsize=(15,6))\n",
    "sns.heatmap(df.corr(),annot=True,ax=ax,cmap='Blues')\n",
    "#Title\n",
    "plt.title('A scatter plot of `P2` against `P2.Lag`');"
   ]
  },
  {
   "cell_type": "code",
   "execution_count": null,
   "id": "36b19d73-4ebd-4d2c-8aa9-dd716157fb77",
   "metadata": {},
   "outputs": [],
   "source": [
    "fig,ax = plt.subplots(figsize=(15,6))\n",
    "#We plot a scatter plot of 'P2' against 'P2.Lag'\n",
    "plt.scatter(data = df,x='P2.Lag1',y='P2')\n",
    "#We plot a straight line from the origin to check our distributed our scatter plot.\n",
    "plt.plot([0,400],[0,400],linestyle='solid',color='red')\n",
    "#xlabel\n",
    "plt.xlabel('P2.Lag1')\n",
    "plt.ylabel('P2')\n",
    "plt.title('A scatter plot of `P2` against `P2.Lag`');"
   ]
  },
  {
   "cell_type": "markdown",
   "id": "95cd0570-4cf7-449c-8577-08523deb933d",
   "metadata": {},
   "source": [
    "### 3. SPLIT"
   ]
  },
  {
   "cell_type": "code",
   "execution_count": null,
   "id": "66095a59-4777-443c-be7c-b42fbf9f56cd",
   "metadata": {},
   "outputs": [],
   "source": [
    "# Split DataFrame in X(Feature) and y(Target).\n",
    "target = 'P2'\n",
    "# Feature column\n",
    "X = df.drop(target,axis=1)\n",
    "y = df[target]"
   ]
  },
  {
   "cell_type": "code",
   "execution_count": null,
   "id": "5ea05d77-ad71-45e4-a7db-02e7dcb6362f",
   "metadata": {},
   "outputs": [],
   "source": [
    "#We split into Train and Test set. Since it is a Time Based Data, We ensure no future data is present in the test set.\n",
    "# We Split in the Ratio 80:20\n",
    "cut_off = int(len(X)*0.8)\n",
    "X_train = X[:cut_off]\n",
    "X_test = X[cut_off:]\n",
    "y_train = y[:cut_off]\n",
    "y_test = y[cut_off:]"
   ]
  },
  {
   "cell_type": "markdown",
   "id": "2279c2b7-81a7-44d4-9fb9-ccb5827835cc",
   "metadata": {},
   "source": [
    "### 4. BUILD MODEL"
   ]
  },
  {
   "cell_type": "markdown",
   "id": "b9a5fdde-cf36-4fb5-ac55-86d68cea768a",
   "metadata": {
    "tags": []
   },
   "source": [
    "#### A. BASELINE"
   ]
  },
  {
   "cell_type": "code",
   "execution_count": null,
   "id": "be3197f0-3d24-4978-b445-ca056b69d012",
   "metadata": {},
   "outputs": [],
   "source": [
    "# We create a baseline model which would be used to test how well our test data those.\n",
    "# The baseline will be the mean absolute error of y_train against that of y_mean\n",
    "y_mean = y_train.mean()\n",
    "y_pred_baseline = [y_mean]*len(y_train)\n",
    "y_baseline_df = pd.DataFrame({'y_train' : y_train,'y_baseline':y_pred_baseline})\n",
    "mae = mean_absolute_error(y_train,y_pred_baseline)\n",
    "print(f' The mean of the y_train is {y_mean}')\n",
    "print(f' The mean absolute error of the baseline model is {mae}')"
   ]
  },
  {
   "cell_type": "code",
   "execution_count": null,
   "id": "73057ecb-fbed-42f3-9047-09423834e5ef",
   "metadata": {},
   "outputs": [],
   "source": [
    "fig = px.line(y_baseline_df,labels={'value':'P2'},title='A Time Series Plot of the y_train and y_baseline',width=1300)\n",
    "fig.show('png');"
   ]
  },
  {
   "cell_type": "markdown",
   "id": "8c909905-c180-4eba-a98a-42b5feb826e4",
   "metadata": {},
   "source": [
    "### B. LINEAR REGRESSION MODEL"
   ]
  },
  {
   "cell_type": "code",
   "execution_count": null,
   "id": "e88c9b69-9b87-464e-aecd-868439654340",
   "metadata": {},
   "outputs": [],
   "source": [
    "#We instantiate the model and fit to the training data\n",
    "lr_model = LinearRegression() \n",
    "lr_model.fit(X_train,y_train)"
   ]
  },
  {
   "cell_type": "code",
   "execution_count": null,
   "id": "200c0c18-a7d7-416b-86d9-ee674029348e",
   "metadata": {},
   "outputs": [],
   "source": [
    "#Next we predict the X_train and calculate the mean absolute error\n",
    "y_train_pred = lr_model.predict(X_train)\n",
    "lr_mae = mean_absolute_error(y_train,y_train_pred)\n",
    "print(f' The mean absolute error of the Linear Regression model with the train test is {lr_mae}')"
   ]
  },
  {
   "cell_type": "code",
   "execution_count": null,
   "id": "ad9a7c63-fc5f-4583-819b-b535262ded3a",
   "metadata": {},
   "outputs": [],
   "source": [
    "# Next we make prediction of X_test and compare with y_test\n",
    "y_test_pred = lr_model.predict(X_test)\n",
    "lr_test_mae = mean_absolute_error(y_test,y_test_pred)\n",
    "print(f' The mean absolute error of the Linear Regression model with the test set is {lr_test_mae}')"
   ]
  },
  {
   "cell_type": "markdown",
   "id": "a61da456-8615-4605-8083-2f379b512a61",
   "metadata": {},
   "source": [
    "### 5. COMMUNICATE RESULT"
   ]
  },
  {
   "cell_type": "code",
   "execution_count": null,
   "id": "8bf4c93f-d6a4-4191-b236-005ebcca304a",
   "metadata": {},
   "outputs": [],
   "source": [
    "# We extract the coefficent and intercept\n",
    "intercept = round(lr_model.intercept_,2)\n",
    "coef = round(lr_model.coef_[0],2)\n",
    "print(f' The intercept of the linear regression model is {intercept} and the coefficient is {coef}, therefore equation is:')\n",
    "print(f'\\n\\n\\t\\t\\t P2 = (P2.Lag1) x {coef} +  {intercept}')"
   ]
  },
  {
   "cell_type": "code",
   "execution_count": null,
   "id": "16940d20-00a7-4d51-909b-de36cb590f3c",
   "metadata": {},
   "outputs": [],
   "source": [
    "y_pred_df = pd.DataFrame({\n",
    "                'y_test':y_test,\n",
    "                'y_prediction':y_test_pred\n",
    "})\n",
    "y_pred_df.head()"
   ]
  },
  {
   "cell_type": "code",
   "execution_count": null,
   "id": "c0290e63-72e0-4b70-9572-abc5f08d000c",
   "metadata": {},
   "outputs": [],
   "source": [
    "y_pred_df.info()"
   ]
  },
  {
   "cell_type": "code",
   "execution_count": null,
   "id": "796b1510-41a6-49e4-8d58-fd3430203226",
   "metadata": {},
   "outputs": [],
   "source": [
    "fig = px.line(y_pred_df,labels={'value':'P2'},title='A Time Series Plot of the y_test and y_pred',width=1500)\n",
    "fig.show('png');"
   ]
  },
  {
   "cell_type": "code",
   "execution_count": null,
   "id": "578b50bb-3e99-42b4-8d00-7241c6bc2346",
   "metadata": {},
   "outputs": [],
   "source": []
  }
 ],
 "metadata": {
  "kernelspec": {
   "display_name": "Python 3 (ipykernel)",
   "language": "python",
   "name": "python3"
  },
  "language_info": {
   "codemirror_mode": {
    "name": "ipython",
    "version": 3
   },
   "file_extension": ".py",
   "mimetype": "text/x-python",
   "name": "python",
   "nbconvert_exporter": "python",
   "pygments_lexer": "ipython3",
   "version": "3.9.12"
  }
 },
 "nbformat": 4,
 "nbformat_minor": 5
}
